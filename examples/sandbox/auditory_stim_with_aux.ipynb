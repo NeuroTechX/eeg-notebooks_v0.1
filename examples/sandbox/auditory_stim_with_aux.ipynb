{
 "cells": [
  {
   "cell_type": "markdown",
   "metadata": {},
   "source": [
    "# Auditory stim with aux "
   ]
  },
  {
   "cell_type": "code",
   "execution_count": 1,
   "metadata": {},
   "outputs": [
    {
     "name": "stdout",
     "output_type": "stream",
     "text": [
      "C:\\Users\\john_griffiths\\Code\\libraries_of_mine\\github\\eeg-notebooks\\notebooks\n"
     ]
    }
   ],
   "source": [
    "cd .."
   ]
  },
  {
   "cell_type": "code",
   "execution_count": 2,
   "metadata": {},
   "outputs": [
    {
     "name": "stdout",
     "output_type": "stream",
     "text": [
      "pygame 1.9.6\n",
      "Hello from the pygame community. https://www.pygame.org/contribute.html\n"
     ]
    }
   ],
   "source": [
    "from muselsl import stream, list_muses, view, record\n",
    "\n",
    "from multiprocessing import Process\n",
    "from mne import Epochs, find_events\n",
    "from time import time, strftime, gmtime\n",
    "import os\n",
    "\n",
    "from stimulus_presentation import n170\n",
    "\n",
    "from utils import utils\n",
    "from collections import OrderedDict\n",
    "import warnings\n",
    "warnings.filterwarnings('ignore')"
   ]
  },
  {
   "cell_type": "code",
   "execution_count": 3,
   "metadata": {},
   "outputs": [],
   "source": [
    "import os\n",
    "import sys\n",
    "from collections import OrderedDict\n",
    "\n",
    "import pandas as pd\n",
    "import numpy as np\n",
    "import seaborn as sns\n",
    "from matplotlib import pyplot as plt\n",
    "%matplotlib inline\n",
    "\n",
    "#sys.path.append(os.path.join(os.path.expanduser(\"~\"), \"eeg-notebooks\", 'utils'))\n",
    "#sys.path.append('../utils')\n",
    "\n",
    "import utils"
   ]
  },
  {
   "cell_type": "code",
   "execution_count": 4,
   "metadata": {},
   "outputs": [],
   "source": [
    "# Define these parameters \n",
    "duration = 10 #120 # in seconds. 120 is recommended\n",
    "subject = 1 # unique id for each participant\n",
    "session = 1 # represents a data collection session. Multiple trials can be performed for each session"
   ]
  },
  {
   "cell_type": "code",
   "execution_count": 5,
   "metadata": {},
   "outputs": [],
   "source": [
    "from sandbox import auditory_erp_aux"
   ]
  },
  {
   "cell_type": "code",
   "execution_count": 7,
   "metadata": {},
   "outputs": [
    {
     "name": "stdout",
     "output_type": "stream",
     "text": [
      "Recording data to:  C:\\Users\\john_griffiths\\Code\\libraries_of_mine\\github\\eeg-notebooks\\notebooks\\test_aux_record.csv\n"
     ]
    }
   ],
   "source": [
    "#from auditory_erp_aux import presentM\n",
    "trials = auditory_erp_aux.present(duration=10,random_state=5,jitter=0)\n",
    "\n",
    "#recording_path = os.path.join(os.path.expanduser(\"~\"), \"eeg-notebooks\", \"data\", \"visual\", \"N170\", \"subject\" + str(subject), \"session\" + str(session), (\"recording_%s.csv\" %\n",
    "#                                              strftime(\"%Y-%m-%d-%H.%M.%S\", gmtime())) + \".csv\")#\n",
    "#\n",
    "recording_path = os.path.abspath('test_aux_record.csv')\n",
    "print('Recording data to: ', recording_path)\n",
    "\n",
    "#stimulus = Process(target=n170.present, args=(duration,))\n",
    "#stimulus = Process(target=auditory_erp_aux.present,args=(duration=30,random_state=5,jitter=0)\n",
    "\n",
    "stimulus = Process(target=auditory_erp_aux.present,args=(duration,))#('duration',30),('random_state',5),('jitter',0))\n",
    "\n",
    "recording = Process(target=record, args=(duration, recording_path))\n",
    "\n",
    "stimulus.start()\n",
    "recording.start()"
   ]
  },
  {
   "cell_type": "code",
   "execution_count": 8,
   "metadata": {},
   "outputs": [
    {
     "data": {
      "text/plain": [
       "True"
      ]
     },
     "execution_count": 8,
     "metadata": {},
     "output_type": "execute_result"
    }
   ],
   "source": [
    "os.path.isfile(recording_path)"
   ]
  }
 ],
 "metadata": {
  "kernelspec": {
   "display_name": "Python 3",
   "language": "python",
   "name": "python3"
  },
  "language_info": {
   "codemirror_mode": {
    "name": "ipython",
    "version": 3
   },
   "file_extension": ".py",
   "mimetype": "text/x-python",
   "name": "python",
   "nbconvert_exporter": "python",
   "pygments_lexer": "ipython3",
   "version": "3.8.1"
  }
 },
 "nbformat": 4,
 "nbformat_minor": 1
}
