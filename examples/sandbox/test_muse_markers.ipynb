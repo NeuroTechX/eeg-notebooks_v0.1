{
 "cells": [
  {
   "cell_type": "markdown",
   "metadata": {},
   "source": [
    "# Testing Brainflow Muse Markers"
   ]
  },
  {
   "cell_type": "markdown",
   "metadata": {},
   "source": [
    "Some code for testing the muse lsl recording functionality"
   ]
  },
  {
   "cell_type": "markdown",
   "metadata": {},
   "source": [
    "***Usage:***\n",
    "\n",
    "First start muse stream separately, either with `bluemuse` in windows or `muselsl` in linux/mac\n",
    "\n",
    "Then run the notebook cells below, and monitor the anacaonda terminal output to see whether it was successful or not\n"
   ]
  },
  {
   "cell_type": "markdown",
   "metadata": {},
   "source": [
    "## Setup"
   ]
  },
  {
   "cell_type": "code",
   "execution_count": 3,
   "metadata": {},
   "outputs": [
    {
     "name": "stdout",
     "output_type": "stream",
     "text": [
      "pygame 1.9.6\n",
      "Hello from the pygame community. https://www.pygame.org/contribute.html\n"
     ]
    }
   ],
   "source": [
    "import sys\n",
    "stdout = sys.stdout\n",
    "\n",
    "import eegnb\n",
    "\n",
    "from eegnb.devices.eeg import EEG\n",
    "\n",
    "from eegnb.experiments.visual_n170 import n170\n",
    "from eegnb.experiments.visual_p300 import p300\n",
    "from eegnb.experiments.visual_ssvep import ssvep\n",
    "\n",
    "from muselsl import stream, list_muses, view, record\n",
    "from pylsl import StreamInfo,StreamOutlet\n",
    "from multiprocessing import Process\n",
    "import time\n",
    "\n",
    "import os\n"
   ]
  },
  {
   "cell_type": "code",
   "execution_count": 4,
   "metadata": {},
   "outputs": [],
   "source": [
    "stdout = sys.stdout"
   ]
  },
  {
   "cell_type": "markdown",
   "metadata": {},
   "source": [
    "## Using the `eeg` and `n170` classes"
   ]
  },
  {
   "cell_type": "code",
   "execution_count": 5,
   "metadata": {},
   "outputs": [
    {
     "name": "stdout",
     "output_type": "stream",
     "text": [
      "starting background recording process\n",
      "will save to file: C:\\Users\\john_griffiths\\Code\\libraries_of_mine\\github\\brainflow-notebooks_friday\\test_fname.csv\n",
      "9.9215 \tWARNING \tUser requested fullscreen with size [1600  900], but screen is actually [1366, 768]. Using actual size\n"
     ]
    }
   ],
   "source": [
    "eeg = EEG(device='muse')\n",
    "save_fn = os.path.abspath('test_fname.csv')\n",
    "n170.present(duration=30,eeg=eeg,save_fn=save_fn)"
   ]
  },
  {
   "cell_type": "markdown",
   "metadata": {},
   "source": [
    "## Simple process calls"
   ]
  },
  {
   "cell_type": "markdown",
   "metadata": {},
   "source": [
    "Starting a recording subprocess in this nb directly"
   ]
  },
  {
   "cell_type": "code",
   "execution_count": 17,
   "metadata": {},
   "outputs": [],
   "source": [
    "save_fn = os.path.join(os.getcwd(),'test_record_file.csv')\n",
    "record_duration=30\n",
    "\n",
    "\n",
    "sys.stdout = stdout\n",
    "#stdout = sys.stdout\n",
    "\n",
    "\n",
    "# Create markers stream outlet\n",
    "muse_StreamInfo = StreamInfo('Markers', 'Markers', 1, 0, 'int32', 'myuidw43536')\n",
    "muse_StreamOutlet = StreamOutlet(muse_StreamInfo)\n",
    "\n",
    "time.sleep(3)\n",
    "\n",
    "# Start a background process that will stream data from the first available Muse\n",
    "#stimulus = Process(target=n170.present, args=(duration,))\n",
    "recording = Process(target=record, args=(record_duration, save_fn))\n",
    "recording.start()\n",
    "\n",
    "timestamp = time.time()\n",
    "marker = [3]\n",
    "muse_StreamOutlet.push_sample(marker,timestamp)\n",
    "\n",
    "\n",
    "\n",
    "time.sleep(3)\n",
    "\n",
    "marker = [1]\n",
    "timestamp = time.time()\n",
    "muse_StreamOutlet.push_sample(marker,timestamp)\n",
    "\n",
    "\n",
    "\n",
    "time.sleep(15)\n",
    "\n",
    "marker = [2]\n",
    "timestamp = time.time()\n",
    "muse_StreamOutlet.push_sample(marker,timestamp)"
   ]
  },
  {
   "cell_type": "markdown",
   "metadata": {},
   "source": [
    "## Muselsl / eegnotebooks class calls\n"
   ]
  },
  {
   "cell_type": "markdown",
   "metadata": {},
   "source": [
    "Using the `_start_muse` method to start a recording subprocess"
   ]
  },
  {
   "cell_type": "code",
   "execution_count": 24,
   "metadata": {},
   "outputs": [
    {
     "data": {
      "text/plain": [
       "'C:\\\\Users\\\\john_griffiths\\\\Code\\\\libraries_of_mine\\\\github\\\\brainflow-notebooks\\\\temp_out.csv'"
      ]
     },
     "execution_count": 24,
     "metadata": {},
     "output_type": "execute_result"
    }
   ],
   "source": [
    "eeg.save_fn = os.path.abspath('temp_out.csv')\n",
    "eeg.save_fn"
   ]
  },
  {
   "cell_type": "code",
   "execution_count": 12,
   "metadata": {},
   "outputs": [
    {
     "name": "stdout",
     "output_type": "stream",
     "text": [
      "C:\\Users\\john_griffiths\\Code\\libraries_of_mine\\github\\brainflow-notebooks\\temp_out_3.csv\n"
     ]
    }
   ],
   "source": [
    "eeg = EEG(device='muselsl')\n",
    "\n",
    "eeg.save_fn = os.path.abspath('temp_out_3.csv')\n",
    "print(eeg.save_fn)"
   ]
  },
  {
   "cell_type": "code",
   "execution_count": 13,
   "metadata": {},
   "outputs": [
    {
     "name": "stdout",
     "output_type": "stream",
     "text": [
      "starting background recording process\n",
      "will save to file: C:\\Users\\john_griffiths\\Code\\libraries_of_mine\\github\\brainflow-notebooks\\temp_out_3.csv\n"
     ]
    }
   ],
   "source": [
    "eeg._start_muse(record_duration=50)"
   ]
  },
  {
   "cell_type": "code",
   "execution_count": 16,
   "metadata": {},
   "outputs": [],
   "source": [
    "timestamp = time.time()\n",
    "marker = [3]\n",
    "eeg.muse_StreamOutlet.push_sample(marker,timestamp)\n",
    "\n",
    "\n",
    "\n",
    "time.sleep(3)\n",
    "marker = [1]\n",
    "timestamp = time.time()\n",
    "eeg.muse_StreamOutlet.push_sample(marker,timestamp)\n",
    "\n",
    "\n",
    "\n",
    "time.sleep(15)\n",
    "marker = [2]\n",
    "timestamp = time.time()\n",
    "eeg.muse_StreamOutlet.push_sample(marker,timestamp)\n"
   ]
  }
 ],
 "metadata": {
  "kernelspec": {
   "display_name": "eegnotebooks_py3",
   "language": "python",
   "name": "eegnotebooks_py3"
  },
  "language_info": {
   "codemirror_mode": {
    "name": "ipython",
    "version": 3
   },
   "file_extension": ".py",
   "mimetype": "text/x-python",
   "name": "python",
   "nbconvert_exporter": "python",
   "pygments_lexer": "ipython3",
   "version": "3.8.1"
  }
 },
 "nbformat": 4,
 "nbformat_minor": 4
}
