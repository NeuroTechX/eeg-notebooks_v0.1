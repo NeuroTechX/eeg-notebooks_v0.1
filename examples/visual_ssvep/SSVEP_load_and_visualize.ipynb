{
 "cells": [
  {
   "cell_type": "markdown",
   "source": [
    "# Load data into MNE Raw type\n",
    "To load the data in as an MNE Raw object, we use the function `eegnb.analysis.utils.load_data()`"
   ],
   "metadata": {
    "collapsed": false
   }
  },
  {
   "cell_type": "code",
   "execution_count": null,
   "outputs": [],
   "source": [
    "from eegnb.analysis.utils import load_data\n",
    "\n",
    "subject_id = 'jadin'\n",
    "session_number = 'all'\n",
    "board_name = 'cyton'\n",
    "experiment = 'visual_ssvep'\n",
    "\n",
    "raw = load_data(subject_id, session_number, board_name, experiment)"
   ],
   "metadata": {
    "collapsed": false,
    "pycharm": {
     "name": "#%%\n"
    }
   }
  },
  {
   "cell_type": "markdown",
   "metadata": {
    "collapsed": true,
    "pycharm": {
     "name": "#%% md\n"
    }
   },
   "source": [
    "# Visualize"
   ]
  },
  {
   "cell_type": "code",
   "execution_count": null,
   "outputs": [],
   "source": [
    "\n"
   ],
   "metadata": {
    "collapsed": false,
    "pycharm": {
     "name": "#%%\n"
    }
   }
  }
 ],
 "metadata": {
  "kernelspec": {
   "display_name": "Python 3",
   "language": "python",
   "name": "python3"
  },
  "language_info": {
   "codemirror_mode": {
    "name": "ipython",
    "version": 2
   },
   "file_extension": ".py",
   "mimetype": "text/x-python",
   "name": "python",
   "nbconvert_exporter": "python",
   "pygments_lexer": "ipython2",
   "version": "2.7.6"
  }
 },
 "nbformat": 4,
 "nbformat_minor": 0
}