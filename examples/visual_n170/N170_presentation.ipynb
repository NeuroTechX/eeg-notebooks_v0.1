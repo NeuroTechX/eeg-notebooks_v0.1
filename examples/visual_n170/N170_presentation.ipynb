{
 "cells": [
  {
   "cell_type": "code",
   "execution_count": 1,
   "metadata": {
    "collapsed": true
   },
   "outputs": [
    {
     "name": "stdout",
     "output_type": "stream",
     "text": [
      "pygame 1.9.6\n",
      "Hello from the pygame community. https://www.pygame.org/contribute.html\n"
     ]
    }
   ],
   "source": [
    "from eegnb import DATA_DIR, generate_save_fn\n",
    "from eegnb.devices.eeg import EEG\n",
    "from eegnb.experiments.visual_n170 import n170"
   ]
  },
  {
   "cell_type": "code",
   "execution_count": 2,
   "outputs": [],
   "source": [
    "# Session parameters\n",
    "board_name = 'synthetic'\n",
    "subject = 'user'\n",
    "experiment = 'visual_n170'\n",
    "duration = 10\n",
    "\n",
    "# Generate save file path\n",
    "save_fn = generate_save_fn(board_name, experiment, subject)\n",
    "print(f\"Saving data to {save_fn}\")"
   ],
   "metadata": {
    "collapsed": false,
    "pycharm": {
     "name": "#%%\n"
    }
   }
  },
  {
   "cell_type": "code",
   "execution_count": 3,
   "outputs": [],
   "source": [
    "# Set up EEG Device\n",
    "eeg_device = EEG(device=board_name)"
   ],
   "metadata": {
    "collapsed": false,
    "pycharm": {
     "name": "#%%\n"
    }
   }
  },
  {
   "cell_type": "code",
   "execution_count": 4,
   "outputs": [
    {
     "name": "stdout",
     "output_type": "stream",
     "text": [
      "No path for a save file was passed to the experiment. Saving data to f/home/jadin/Documents/Programming/brainflow-notebooks/eegnb/../data/visual_n170/unnamed/synthetic_TRIAL_0.csv\n",
      "8.0891 \tWARNING \tUser requested fullscreen with size [1600  900], but screen is actually [1080, 1920]. Using actual size\n"
     ]
    }
   ],
   "source": [
    "# Run experiment\n",
    "n170.present(duration, eeg_device, save_fn)"
   ],
   "metadata": {
    "collapsed": false,
    "pycharm": {
     "name": "#%%\n"
    }
   }
  }
 ],
 "metadata": {
  "kernelspec": {
   "display_name": "Python 3",
   "language": "python",
   "name": "python3"
  },
  "language_info": {
   "codemirror_mode": {
    "name": "ipython",
    "version": 2
   },
   "file_extension": ".py",
   "mimetype": "text/x-python",
   "name": "python",
   "nbconvert_exporter": "python",
   "pygments_lexer": "ipython2",
   "version": "2.7.6"
  }
 },
 "nbformat": 4,
 "nbformat_minor": 0
}